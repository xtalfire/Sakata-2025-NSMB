{
 "cells": [
  {
   "cell_type": "code",
   "execution_count": 1,
   "id": "b0d22d2b",
   "metadata": {},
   "outputs": [],
   "source": [
    "import sys\n",
    "import pandas as pd\n",
    "import numpy as np\n",
    "import matplotlib.pyplot as pl\n",
    "\n",
    "from biopandas.pdb import PandasPdb"
   ]
  },
  {
   "cell_type": "code",
   "execution_count": 379,
   "id": "0f8789c1",
   "metadata": {},
   "outputs": [],
   "source": [
    "# User input, global variables, the part to be calculated\n",
    "chain = 'A'    # which chain\n",
    "residue_start  = 1   # which residue starts\n",
    "residue_end    = 439    # which residue ends\n"
   ]
  },
  {
   "cell_type": "code",
   "execution_count": 449,
   "id": "279d3460",
   "metadata": {},
   "outputs": [],
   "source": [
    "# path\n",
    "# 1st pdb, the important one, the base \n",
    "path1 = '/media/tcheng/4900fa07-fb34-4b94-93d3-0d932f25d1c2/26S/Moises/full_data/cryosparc/J76_conform1.1/rmsd2/full_docked5-close-coot-5.pdb'\n",
    "\n",
    "# 2nd pdb, the one to be compared to\n",
    "path2 = '/media/tcheng/4900fa07-fb34-4b94-93d3-0d932f25d1c2/26S/Moises/full_data/cryosparc/J76_conform1.1/rmsd2/7w3j_aligned_to_G-M.pdb'\n",
    "\n",
    "# out_path\n",
    "path3 = ' ' "
   ]
  },
  {
   "cell_type": "code",
   "execution_count": 450,
   "id": "0288251a",
   "metadata": {
    "scrolled": true
   },
   "outputs": [],
   "source": [
    "# reading in the first pdb into python dataframe, and the file to be modified\n",
    "p1 = PandasPdb().read_pdb(path1)\n",
    "\n",
    "# the second pdb, the pdb to be compared\n",
    "p2 = PandasPdb().read_pdb(path2)"
   ]
  },
  {
   "cell_type": "code",
   "execution_count": 451,
   "id": "333b9c23",
   "metadata": {},
   "outputs": [],
   "source": [
    "# some formating of the first pdb, select main chain only\n",
    "p1_chain = p1.df['ATOM'].loc[(p1.df['ATOM']['chain_id'] == chain)] \n",
    "p1_mainchain = p1_chain.loc[(p1.df['ATOM']['atom_name'] == 'C')|(p1.df['ATOM']['atom_name'] == 'O')|(p1.df['ATOM']['atom_name'] == 'N')|(p1.df['ATOM']['atom_name'] == 'CA')]\n",
    "\n",
    "# some formating of the second pdb. \n",
    "p2_chain = p2.df['ATOM'].loc[(p2.df['ATOM']['chain_id'] == chain)]\n",
    "p2_mainchain = p2_chain.loc[(p2.df['ATOM']['atom_name'] == 'C')|(p2.df['ATOM']['atom_name'] == 'O')|(p2.df['ATOM']['atom_name'] == 'N')|(p2.df['ATOM']['atom_name'] == 'CA')]\n",
    "\n",
    "#p2_mainchain"
   ]
  },
  {
   "cell_type": "code",
   "execution_count": 363,
   "id": "0deaaf49",
   "metadata": {},
   "outputs": [
    {
     "data": {
      "text/plain": [
       "array([ 23,  24,  25,  26,  27,  28,  29,  30,  31,  32,  33,  34,  35,\n",
       "        36,  37,  38,  39,  40,  41,  42,  43,  44,  45,  46,  47,  48,\n",
       "        49,  50,  51,  52,  53,  54,  55,  56,  57,  58,  59,  60,  61,\n",
       "        62,  63,  64,  65,  66,  67,  68,  69,  70,  71,  72,  73,  74,\n",
       "        75,  76,  77,  78,  79,  80,  81,  82,  83,  84,  85,  86,  87,\n",
       "        88,  89,  90,  91,  92,  93,  94,  95,  96,  97,  98,  99, 100,\n",
       "       101, 102, 103, 104, 105, 106, 107, 108, 109, 110, 111, 112, 113,\n",
       "       114, 115, 116, 117, 118, 119, 120, 121, 122, 123, 124, 125, 126,\n",
       "       127, 128, 129, 130, 131, 132, 133, 134, 135, 136, 137, 138, 139,\n",
       "       140, 141, 142, 143, 144, 145, 146, 147, 148, 149, 150, 151, 152,\n",
       "       153, 154, 155, 156, 157, 158, 159, 160, 161, 162, 163, 164, 165,\n",
       "       166, 167, 168, 169, 170, 171, 172, 173, 174, 175, 176, 177, 178,\n",
       "       179, 180, 181, 182, 183, 184, 185, 186, 187, 188, 189, 190, 191,\n",
       "       192, 193, 194, 195, 196, 197, 198, 199, 200, 201, 202, 203, 204,\n",
       "       205, 206, 207, 208, 209, 210, 211, 212, 213, 214, 215, 216, 217,\n",
       "       218, 219, 220, 221, 222, 223, 224, 225, 226, 227, 228, 229, 230,\n",
       "       231, 232, 233, 234, 235, 236, 237, 238, 239, 240, 241, 242, 243,\n",
       "       244, 245, 246, 247, 248, 249, 250, 251, 252, 253, 254, 255, 256,\n",
       "       257, 258, 259, 260, 261, 262, 263, 264, 265, 266, 267, 268, 269,\n",
       "       270, 271, 272, 273, 274, 275, 276, 277, 278, 279, 280, 281, 282,\n",
       "       283, 284, 285, 286, 287, 288, 289, 290, 291, 292, 293, 294, 295,\n",
       "       296, 297, 298, 299, 300, 301, 302, 303, 304, 305, 306, 307, 308,\n",
       "       309, 310, 311, 312, 313, 314, 315, 316, 317, 318, 319, 320, 321,\n",
       "       322, 323, 324, 325, 326, 327, 328, 329, 330, 331, 332, 333, 334,\n",
       "       335, 336, 337, 338, 339, 340, 341, 342, 343, 344, 345, 346, 347,\n",
       "       348, 349, 350, 351, 352, 353, 354, 355, 356, 357, 358, 359, 360,\n",
       "       361, 362, 363, 364, 365, 366, 367, 368, 369, 370, 371, 372, 373,\n",
       "       374, 375, 376, 377, 378, 379, 380, 381, 382, 383, 384, 385, 386,\n",
       "       387, 388, 389, 390, 391, 392, 393, 394, 395, 396, 397, 398, 399,\n",
       "       400, 401, 402, 403, 404, 405, 406, 407, 408, 409, 410, 411, 412,\n",
       "       413, 414, 415, 416, 417, 418, 419, 420, 421, 422, 423, 424, 425])"
      ]
     },
     "execution_count": 363,
     "metadata": {},
     "output_type": "execute_result"
    }
   ],
   "source": [
    "# find the residues that intersected \n",
    "size = np.size(np.arange(residue_start, residue_end + 1, 1))\n",
    "full_list = pd.DataFrame(np.arange(residue_start, residue_end + 1, 1), columns=['residue_number'])\n",
    "    \n",
    "p2_residue_df = pd.DataFrame(p2_chain['residue_number'], columns=['residue_number'])\n",
    "p2_unique_df = p2_residue_df.drop_duplicates(subset='residue_number')\n",
    "\n",
    "p1_residue_df = pd.DataFrame(p1_chain['residue_number'], columns=['residue_number'])\n",
    "p1_unique_df = p1_residue_df.drop_duplicates(subset='residue_number')\n",
    "\n",
    "intersect = np.intersect1d(p1_unique_df['residue_number'], p2_unique_df['residue_number'])\n",
    "#np.setdiff1d(full_list['residue_number'], p2_unique_df['residue_number'])\n",
    "intersect"
   ]
  },
  {
   "cell_type": "code",
   "execution_count": 314,
   "id": "1d2973d2",
   "metadata": {
    "scrolled": true
   },
   "outputs": [
    {
     "data": {
      "text/plain": [
       "0      10.28\n",
       "1      10.75\n",
       "2      11.00\n",
       "3      10.97\n",
       "4      10.60\n",
       "       ...  \n",
       "434     0.00\n",
       "435     0.00\n",
       "436     0.00\n",
       "437     0.00\n",
       "438     0.00\n",
       "Name: rmsd, Length: 439, dtype: float64"
      ]
     },
     "execution_count": 314,
     "metadata": {},
     "output_type": "execute_result"
    }
   ],
   "source": [
    "# calculate per residue rmsd\n",
    "size = np.size(np.arange(residue_start, residue_end + 1, 1))\n",
    "rmsd1 = np.zeros((size,2))\n",
    "j=0\n",
    "for i in intersect:\n",
    "#for i in np.arange(residue_start, residue_end + 1, 1):\n",
    "    z = PandasPdb.rmsd(p1_mainchain.loc[(p1.df['ATOM']['residue_number'] == i)],p2_mainchain.loc[(p2.df['ATOM']['residue_number'] == i)], s='main chain')\n",
    "    rmsd1[j]= i, round(z,2) \n",
    "    j = j + 1\n",
    "    #print(i)\n",
    "#PandasPdb.rmsd(p1_chain.loc[(p1.df['ATOM']['residue_number'] == 59)],p2_chain.loc[(p2.df['ATOM']['residue_number'] == 59)], s='main chain')\n",
    "rmsd1_df = pd.DataFrame(rmsd1, columns=['residue', 'rmsd'])      # convert it to a dataframe\n",
    "rmsd1_df['rmsd']"
   ]
  },
  {
   "cell_type": "code",
   "execution_count": 315,
   "id": "c9d74c78",
   "metadata": {
    "scrolled": true
   },
   "outputs": [
    {
     "name": "stderr",
     "output_type": "stream",
     "text": [
      "/home/tcheng/miniconda3/envs/jupyter/lib/python3.7/site-packages/ipykernel_launcher.py:19: SettingWithCopyWarning: \n",
      "A value is trying to be set on a copy of a slice from a DataFrame\n",
      "\n",
      "See the caveats in the documentation: https://pandas.pydata.org/pandas-docs/stable/user_guide/indexing.html#returning-a-view-versus-a-copy\n"
     ]
    },
    {
     "data": {
      "text/plain": [
       "dtype('float64')"
      ]
     },
     "execution_count": 315,
     "metadata": {},
     "output_type": "execute_result"
    }
   ],
   "source": [
    "# weird problem with using len() function\n",
    "k1 = p1.df['ATOM']['chain_id'].shape\n",
    "k2 = rmsd1_df['rmsd'].shape\n",
    "\n",
    "# set b-fac to zero first\n",
    "#p1.df['ATOM']['b_factor']  = 0\n",
    "\n",
    "# the real replacement\n",
    "for i in np.arange(k1[0]):\n",
    "    if (p1.df['ATOM']['chain_id'][i] == chain):\n",
    "        p1.df['ATOM']['b_factor']  = 0.0\n",
    "        p1.df['ATOM']['b_factor'].astype(float) \n",
    "\n",
    "for i in np.arange(k1[0]):\n",
    "    for j in np.arange(k2[0]):\n",
    "        #print(i)\n",
    "        #print(j)\n",
    "        if (p1.df['ATOM']['chain_id'][i] == chain) & (p1.df['ATOM']['residue_number'][i] == rmsd1_df['residue'][j]):\n",
    "            p1.df['ATOM']['b_factor'][i] = rmsd1_df['rmsd'][j]  \n",
    "            #print(p1.df['ATOM']['b_factor'][i])\n",
    "p1.df['ATOM']['b_factor'].dtype"
   ]
  },
  {
   "cell_type": "code",
   "execution_count": 316,
   "id": "8064c29c",
   "metadata": {},
   "outputs": [
    {
     "data": {
      "text/plain": [
       "0       10.28\n",
       "1       10.28\n",
       "2       10.28\n",
       "3       10.28\n",
       "4       10.28\n",
       "        ...  \n",
       "2781     7.85\n",
       "2782     7.85\n",
       "2783     7.85\n",
       "2784     7.85\n",
       "2785     7.85\n",
       "Name: b_factor, Length: 2786, dtype: float64"
      ]
     },
     "execution_count": 316,
     "metadata": {},
     "output_type": "execute_result"
    }
   ],
   "source": [
    "# just to check\n",
    "p1.df['ATOM']['b_factor']"
   ]
  },
  {
   "cell_type": "code",
   "execution_count": 317,
   "id": "62063d4b",
   "metadata": {},
   "outputs": [],
   "source": [
    "p1.to_pdb('/media/tcheng/4900fa07-fb34-4b94-93d3-0d932f25d1c2/26S/Moises/full_data/cryosparc/J76_conform1.1/rmsd3/rmsd_new_F.pdb')      # saving to a pdb"
   ]
  },
  {
   "cell_type": "code",
   "execution_count": null,
   "id": "e436b3c1",
   "metadata": {},
   "outputs": [],
   "source": [
    "#### Below is for whole chain RMSD #### "
   ]
  },
  {
   "cell_type": "code",
   "execution_count": 452,
   "id": "206347cd",
   "metadata": {},
   "outputs": [],
   "source": [
    "# some formating of the first pdb, select main chain only, sometimes only the mainchains atoms exist\n",
    "p1_chain = p1.df['ATOM'].loc[(p1.df['ATOM']['chain_id'] == chain)] \n",
    "p1_mainchain = p1_chain.loc[(p1.df['ATOM']['atom_name'] == 'C')|(p1.df['ATOM']['atom_name'] == 'O')|(p1.df['ATOM']['atom_name'] == 'N')|(p1.df['ATOM']['atom_name'] == 'CA')]\n",
    "\n",
    "# some formating of the second pdb. \n",
    "p2_chain = p2.df['ATOM'].loc[(p2.df['ATOM']['chain_id'] == chain)]\n",
    "p2_mainchain = p2_chain.loc[(p2.df['ATOM']['atom_name'] == 'C')|(p2.df['ATOM']['atom_name'] == 'O')|(p2.df['ATOM']['atom_name'] == 'N')|(p2.df['ATOM']['atom_name'] == 'CA')]\n",
    "\n",
    "#p2_mainchain"
   ]
  },
  {
   "cell_type": "code",
   "execution_count": 453,
   "id": "9ac76f18",
   "metadata": {},
   "outputs": [
    {
     "name": "stdout",
     "output_type": "stream",
     "text": [
      "RMSD chain A: 6.0221 Angstrom\n"
     ]
    }
   ],
   "source": [
    "# A cell for each chain\n",
    "#chain A first\n",
    "chain = 'A'    # which chain\n",
    "residue_start  = 157   # which residue starts\n",
    "residue_end    = 500    # which residue ends\n",
    "\n",
    "# some formating of the first pdb, select main chain only, sometimes only the mainchains atoms exist\n",
    "p1_chain = p1.df['ATOM'].loc[(p1.df['ATOM']['chain_id'] == chain)] \n",
    "p1_mainchain = p1_chain.loc[(p1.df['ATOM']['atom_name'] == 'C')|(p1.df['ATOM']['atom_name'] == 'O')|(p1.df['ATOM']['atom_name'] == 'N')|(p1.df['ATOM']['atom_name'] == 'CA')]\n",
    "# some formating of the second pdb. \n",
    "p2_chain = p2.df['ATOM'].loc[(p2.df['ATOM']['chain_id'] == chain)]\n",
    "p2_mainchain = p2_chain.loc[(p2.df['ATOM']['atom_name'] == 'C')|(p2.df['ATOM']['atom_name'] == 'O')|(p2.df['ATOM']['atom_name'] == 'N')|(p2.df['ATOM']['atom_name'] == 'CA')]\n",
    "\n",
    "# find the intersects\n",
    "size = np.size(np.arange(residue_start, residue_end + 1, 1))\n",
    "full_list = pd.DataFrame(np.arange(residue_start, residue_end + 1, 1), columns=['residue_number'])\n",
    "    \n",
    "p2_residue_df = pd.DataFrame(p2_chain['residue_number'], columns=['residue_number'])\n",
    "p2_unique_df = p2_residue_df.drop_duplicates(subset='residue_number')\n",
    "\n",
    "p1_residue_df = pd.DataFrame(p1_chain['residue_number'], columns=['residue_number'])\n",
    "p1_unique_df = p1_residue_df.drop_duplicates(subset='residue_number')\n",
    "\n",
    "intersect = np.intersect1d(p1_unique_df['residue_number'], p2_unique_df['residue_number'])\n",
    "#np.setdiff1d(full_list['residue_number'], p2_unique_df['residue_number'])\n",
    "#intersect\n",
    "\n",
    "# select the intersecting residues\n",
    "p1_mainchainA = p1_mainchain[p1_mainchain['residue_number'].isin(intersect)]\n",
    "p2_mainchainA = p2_mainchain[p2_mainchain['residue_number'].isin(intersect)]\n",
    "\n",
    "rmsd = PandasPdb.rmsd(p1_mainchainA, p2_mainchainA, s='main chain')\n",
    "print('RMSD chain A: %.4f Angstrom' % rmsd)"
   ]
  },
  {
   "cell_type": "code",
   "execution_count": 454,
   "id": "1b993346",
   "metadata": {},
   "outputs": [
    {
     "name": "stdout",
     "output_type": "stream",
     "text": [
      "RMSD chain B: 6.2455 Angstrom\n"
     ]
    }
   ],
   "source": [
    "# A cell for each chain\n",
    "#chain B \n",
    "chain = 'B'    # which chain\n",
    "residue_start  = 167   # which residue starts\n",
    "residue_end    = 500    # which residue ends\n",
    "\n",
    "# some formating of the first pdb, select main chain only, sometimes only the mainchains atoms exist\n",
    "p1_chain = p1.df['ATOM'].loc[(p1.df['ATOM']['chain_id'] == chain)] \n",
    "p1_mainchain = p1_chain.loc[(p1.df['ATOM']['atom_name'] == 'C')|(p1.df['ATOM']['atom_name'] == 'O')|(p1.df['ATOM']['atom_name'] == 'N')|(p1.df['ATOM']['atom_name'] == 'CA')]\n",
    "# some formating of the second pdb. \n",
    "p2_chain = p2.df['ATOM'].loc[(p2.df['ATOM']['chain_id'] == chain)]\n",
    "p2_mainchain = p2_chain.loc[(p2.df['ATOM']['atom_name'] == 'C')|(p2.df['ATOM']['atom_name'] == 'O')|(p2.df['ATOM']['atom_name'] == 'N')|(p2.df['ATOM']['atom_name'] == 'CA')]\n",
    "\n",
    "# find the intersects\n",
    "size = np.size(np.arange(residue_start, residue_end + 1, 1))\n",
    "full_list = pd.DataFrame(np.arange(residue_start, residue_end + 1, 1), columns=['residue_number'])\n",
    "    \n",
    "p2_residue_df = pd.DataFrame(p2_chain['residue_number'], columns=['residue_number'])\n",
    "p2_unique_df = p2_residue_df.drop_duplicates(subset='residue_number')\n",
    "\n",
    "p1_residue_df = pd.DataFrame(p1_chain['residue_number'], columns=['residue_number'])\n",
    "p1_unique_df = p1_residue_df.drop_duplicates(subset='residue_number')\n",
    "\n",
    "intersect = np.intersect1d(p1_unique_df['residue_number'], p2_unique_df['residue_number'])\n",
    "#np.setdiff1d(full_list['residue_number'], p2_unique_df['residue_number'])\n",
    "#intersect\n",
    "\n",
    "# select the intersecting residues\n",
    "p1_mainchainB = p1_mainchain[p1_mainchain['residue_number'].isin(intersect)]\n",
    "p2_mainchainB = p2_mainchain[p2_mainchain['residue_number'].isin(intersect)]\n",
    "\n",
    "rmsd = PandasPdb.rmsd(p1_mainchainB, p2_mainchainB, s='main chain')\n",
    "print('RMSD chain B: %.4f Angstrom' % rmsd)"
   ]
  },
  {
   "cell_type": "code",
   "execution_count": 455,
   "id": "b2730623",
   "metadata": {},
   "outputs": [
    {
     "name": "stdout",
     "output_type": "stream",
     "text": [
      "RMSD chain C: 6.0195 Angstrom\n"
     ]
    }
   ],
   "source": [
    "# A cell for each chain\n",
    "#chain C \n",
    "chain = 'C'    # which chain\n",
    "residue_start  = 137   # which residue starts\n",
    "residue_end    = 500    # which residue ends\n",
    "\n",
    "# some formating of the first pdb, select main chain only, sometimes only the mainchains atoms exist\n",
    "p1_chain = p1.df['ATOM'].loc[(p1.df['ATOM']['chain_id'] == chain)] \n",
    "p1_mainchain = p1_chain.loc[(p1.df['ATOM']['atom_name'] == 'C')|(p1.df['ATOM']['atom_name'] == 'O')|(p1.df['ATOM']['atom_name'] == 'N')|(p1.df['ATOM']['atom_name'] == 'CA')]\n",
    "# some formating of the second pdb. \n",
    "p2_chain = p2.df['ATOM'].loc[(p2.df['ATOM']['chain_id'] == chain)]\n",
    "p2_mainchain = p2_chain.loc[(p2.df['ATOM']['atom_name'] == 'C')|(p2.df['ATOM']['atom_name'] == 'O')|(p2.df['ATOM']['atom_name'] == 'N')|(p2.df['ATOM']['atom_name'] == 'CA')]\n",
    "\n",
    "# find the intersects\n",
    "size = np.size(np.arange(residue_start, residue_end + 1, 1))\n",
    "full_list = pd.DataFrame(np.arange(residue_start, residue_end + 1, 1), columns=['residue_number'])\n",
    "    \n",
    "p2_residue_df = pd.DataFrame(p2_chain['residue_number'], columns=['residue_number'])\n",
    "p2_unique_df = p2_residue_df.drop_duplicates(subset='residue_number')\n",
    "\n",
    "p1_residue_df = pd.DataFrame(p1_chain['residue_number'], columns=['residue_number'])\n",
    "p1_unique_df = p1_residue_df.drop_duplicates(subset='residue_number')\n",
    "\n",
    "intersect = np.intersect1d(p1_unique_df['residue_number'], p2_unique_df['residue_number'])\n",
    "#np.setdiff1d(full_list['residue_number'], p2_unique_df['residue_number'])\n",
    "#intersect\n",
    "\n",
    "# select the intersecting residues\n",
    "p1_mainchainC = p1_mainchain[p1_mainchain['residue_number'].isin(intersect)]\n",
    "p2_mainchainC = p2_mainchain[p2_mainchain['residue_number'].isin(intersect)]\n",
    "\n",
    "rmsd = PandasPdb.rmsd(p1_mainchainC, p2_mainchainC, s='main chain')\n",
    "print('RMSD chain C: %.4f Angstrom' % rmsd)"
   ]
  },
  {
   "cell_type": "code",
   "execution_count": 456,
   "id": "5a44f166",
   "metadata": {},
   "outputs": [
    {
     "name": "stdout",
     "output_type": "stream",
     "text": [
      "RMSD chain D: 5.7362 Angstrom\n"
     ]
    }
   ],
   "source": [
    "# A cell for each chain\n",
    "#chain D \n",
    "chain = 'D'    # which chain\n",
    "residue_start  = 154   # which residue starts\n",
    "residue_end    = 500    # which residue ends\n",
    "\n",
    "# some formating of the first pdb, select main chain only, sometimes only the mainchains atoms exist\n",
    "p1_chain = p1.df['ATOM'].loc[(p1.df['ATOM']['chain_id'] == chain)] \n",
    "p1_mainchain = p1_chain.loc[(p1.df['ATOM']['atom_name'] == 'C')|(p1.df['ATOM']['atom_name'] == 'O')|(p1.df['ATOM']['atom_name'] == 'N')|(p1.df['ATOM']['atom_name'] == 'CA')]\n",
    "# some formating of the second pdb. \n",
    "p2_chain = p2.df['ATOM'].loc[(p2.df['ATOM']['chain_id'] == chain)]\n",
    "p2_mainchain = p2_chain.loc[(p2.df['ATOM']['atom_name'] == 'C')|(p2.df['ATOM']['atom_name'] == 'O')|(p2.df['ATOM']['atom_name'] == 'N')|(p2.df['ATOM']['atom_name'] == 'CA')]\n",
    "\n",
    "# find the intersects\n",
    "size = np.size(np.arange(residue_start, residue_end + 1, 1))\n",
    "full_list = pd.DataFrame(np.arange(residue_start, residue_end + 1, 1), columns=['residue_number'])\n",
    "    \n",
    "p2_residue_df = pd.DataFrame(p2_chain['residue_number'], columns=['residue_number'])\n",
    "p2_unique_df = p2_residue_df.drop_duplicates(subset='residue_number')\n",
    "\n",
    "p1_residue_df = pd.DataFrame(p1_chain['residue_number'], columns=['residue_number'])\n",
    "p1_unique_df = p1_residue_df.drop_duplicates(subset='residue_number')\n",
    "\n",
    "intersect = np.intersect1d(p1_unique_df['residue_number'], p2_unique_df['residue_number'])\n",
    "#np.setdiff1d(full_list['residue_number'], p2_unique_df['residue_number'])\n",
    "#intersect\n",
    "\n",
    "# select the intersecting residues\n",
    "p1_mainchainD = p1_mainchain[p1_mainchain['residue_number'].isin(intersect)]\n",
    "p2_mainchainD = p2_mainchain[p2_mainchain['residue_number'].isin(intersect)]\n",
    "\n",
    "rmsd = PandasPdb.rmsd(p1_mainchainD, p2_mainchainD, s='main chain')\n",
    "print('RMSD chain D: %.4f Angstrom' % rmsd)"
   ]
  },
  {
   "cell_type": "code",
   "execution_count": 457,
   "id": "34189623",
   "metadata": {},
   "outputs": [
    {
     "name": "stdout",
     "output_type": "stream",
     "text": [
      "RMSD chain E: 19.1138 Angstrom\n"
     ]
    }
   ],
   "source": [
    "# A cell for each chain\n",
    "#chain E \n",
    "chain = 'E'    # which chain\n",
    "residue_start  = 121   # which residue starts\n",
    "residue_end    = 500    # which residue ends\n",
    "\n",
    "# some formating of the first pdb, select main chain only, sometimes only the mainchains atoms exist\n",
    "p1_chain = p1.df['ATOM'].loc[(p1.df['ATOM']['chain_id'] == chain)] \n",
    "p1_mainchain = p1_chain.loc[(p1.df['ATOM']['atom_name'] == 'C')|(p1.df['ATOM']['atom_name'] == 'O')|(p1.df['ATOM']['atom_name'] == 'N')|(p1.df['ATOM']['atom_name'] == 'CA')]\n",
    "# some formating of the second pdb. \n",
    "p2_chain = p2.df['ATOM'].loc[(p2.df['ATOM']['chain_id'] == chain)]\n",
    "p2_mainchain = p2_chain.loc[(p2.df['ATOM']['atom_name'] == 'C')|(p2.df['ATOM']['atom_name'] == 'O')|(p2.df['ATOM']['atom_name'] == 'N')|(p2.df['ATOM']['atom_name'] == 'CA')]\n",
    "\n",
    "# find the intersects\n",
    "size = np.size(np.arange(residue_start, residue_end + 1, 1))\n",
    "full_list = pd.DataFrame(np.arange(residue_start, residue_end + 1, 1), columns=['residue_number'])\n",
    "    \n",
    "p2_residue_df = pd.DataFrame(p2_chain['residue_number'], columns=['residue_number'])\n",
    "p2_unique_df = p2_residue_df.drop_duplicates(subset='residue_number')\n",
    "\n",
    "p1_residue_df = pd.DataFrame(p1_chain['residue_number'], columns=['residue_number'])\n",
    "p1_unique_df = p1_residue_df.drop_duplicates(subset='residue_number')\n",
    "\n",
    "intersect = np.intersect1d(p1_unique_df['residue_number'], p2_unique_df['residue_number'])\n",
    "#np.setdiff1d(full_list['residue_number'], p2_unique_df['residue_number'])\n",
    "#intersect\n",
    "\n",
    "# select the intersecting residues\n",
    "p1_mainchainE = p1_mainchain[p1_mainchain['residue_number'].isin(intersect)]\n",
    "p2_mainchainE = p2_mainchain[p2_mainchain['residue_number'].isin(intersect)]\n",
    "\n",
    "rmsd = PandasPdb.rmsd(p1_mainchainE, p2_mainchainE, s='main chain')\n",
    "print('RMSD chain E: %.4f Angstrom' % rmsd)"
   ]
  },
  {
   "cell_type": "code",
   "execution_count": 458,
   "id": "9a07aa0c",
   "metadata": {},
   "outputs": [
    {
     "name": "stdout",
     "output_type": "stream",
     "text": [
      "RMSD chain F: 9.4152 Angstrom\n"
     ]
    }
   ],
   "source": [
    "# A cell for each chain\n",
    "#chain F \n",
    "chain = 'F'    # which chain\n",
    "residue_start  = 168   # which residue starts\n",
    "residue_end    = 500    # which residue ends\n",
    "\n",
    "# some formating of the first pdb, select main chain only, sometimes only the mainchains atoms exist\n",
    "p1_chain = p1.df['ATOM'].loc[(p1.df['ATOM']['chain_id'] == chain)] \n",
    "p1_mainchain = p1_chain.loc[(p1.df['ATOM']['atom_name'] == 'C')|(p1.df['ATOM']['atom_name'] == 'O')|(p1.df['ATOM']['atom_name'] == 'N')|(p1.df['ATOM']['atom_name'] == 'CA')]\n",
    "# some formating of the second pdb. \n",
    "p2_chain = p2.df['ATOM'].loc[(p2.df['ATOM']['chain_id'] == chain)]\n",
    "p2_mainchain = p2_chain.loc[(p2.df['ATOM']['atom_name'] == 'C')|(p2.df['ATOM']['atom_name'] == 'O')|(p2.df['ATOM']['atom_name'] == 'N')|(p2.df['ATOM']['atom_name'] == 'CA')]\n",
    "\n",
    "# find the intersects\n",
    "size = np.size(np.arange(residue_start, residue_end + 1, 1))\n",
    "full_list = pd.DataFrame(np.arange(residue_start, residue_end + 1, 1), columns=['residue_number'])\n",
    "    \n",
    "p2_residue_df = pd.DataFrame(p2_chain['residue_number'], columns=['residue_number'])\n",
    "p2_unique_df = p2_residue_df.drop_duplicates(subset='residue_number')\n",
    "\n",
    "p1_residue_df = pd.DataFrame(p1_chain['residue_number'], columns=['residue_number'])\n",
    "p1_unique_df = p1_residue_df.drop_duplicates(subset='residue_number')\n",
    "\n",
    "intersect = np.intersect1d(p1_unique_df['residue_number'], p2_unique_df['residue_number'])\n",
    "#np.setdiff1d(full_list['residue_number'], p2_unique_df['residue_number'])\n",
    "#intersect\n",
    "\n",
    "# select the intersecting residues\n",
    "p1_mainchainF = p1_mainchain[p1_mainchain['residue_number'].isin(intersect)]\n",
    "p2_mainchainF = p2_mainchain[p2_mainchain['residue_number'].isin(intersect)]\n",
    "\n",
    "rmsd = PandasPdb.rmsd(p1_mainchainF, p2_mainchainF, s='main chain')\n",
    "print('RMSD chain F: %.4f Angstrom' % rmsd)"
   ]
  },
  {
   "cell_type": "code",
   "execution_count": 459,
   "id": "2b15bb56",
   "metadata": {},
   "outputs": [
    {
     "name": "stdout",
     "output_type": "stream",
     "text": [
      "RMSD combined 9.8479 Angstrom\n"
     ]
    }
   ],
   "source": [
    "#combine all df\n",
    "p1_combined = pd.concat([p1_mainchainA, p1_mainchainB, p1_mainchainC, p1_mainchainD, p1_mainchainE, p1_mainchainF])\n",
    "p2_combined = pd.concat([p2_mainchainA, p2_mainchainB, p2_mainchainC, p2_mainchainD, p2_mainchainE, p2_mainchainF])\n",
    "\n",
    "# overal rmsd\n",
    "rmsd = PandasPdb.rmsd(p1_combined, p2_combined, s='main chain')\n",
    "print('RMSD combined %.4f Angstrom' % rmsd)\n",
    "\n",
    "#p1_combined"
   ]
  },
  {
   "cell_type": "code",
   "execution_count": null,
   "id": "b20869c4",
   "metadata": {},
   "outputs": [],
   "source": []
  },
  {
   "cell_type": "code",
   "execution_count": null,
   "id": "257fa652",
   "metadata": {
    "scrolled": false
   },
   "outputs": [],
   "source": []
  },
  {
   "cell_type": "code",
   "execution_count": null,
   "id": "1d06b21b",
   "metadata": {},
   "outputs": [],
   "source": []
  }
 ],
 "metadata": {
  "kernelspec": {
   "display_name": "Python 3 (ipykernel)",
   "language": "python",
   "name": "python3"
  },
  "language_info": {
   "codemirror_mode": {
    "name": "ipython",
    "version": 3
   },
   "file_extension": ".py",
   "mimetype": "text/x-python",
   "name": "python",
   "nbconvert_exporter": "python",
   "pygments_lexer": "ipython3",
   "version": "3.7.13"
  }
 },
 "nbformat": 4,
 "nbformat_minor": 5
}
